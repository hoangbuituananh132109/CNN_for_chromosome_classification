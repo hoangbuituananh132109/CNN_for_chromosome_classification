{
  "cells": [
    {
      "cell_type": "code",
      "execution_count": null,
      "metadata": {
        "colab": {
          "base_uri": "https://localhost:8080/"
        },
        "id": "UVg2hesGMM2T",
        "outputId": "3dbeaaaf-8c06-4f1a-8d14-694a7b87aba9"
      },
      "outputs": [
        {
          "name": "stdout",
          "output_type": "stream",
          "text": [
            "Collecting rarfile\n",
            "  Downloading rarfile-4.2-py3-none-any.whl.metadata (4.4 kB)\n",
            "Requirement already satisfied: torch in /usr/local/lib/python3.11/dist-packages (2.6.0+cu124)\n",
            "Requirement already satisfied: torchvision in /usr/local/lib/python3.11/dist-packages (0.21.0+cu124)\n",
            "Requirement already satisfied: tqdm in /usr/local/lib/python3.11/dist-packages (4.67.1)\n",
            "Requirement already satisfied: Pillow in /usr/local/lib/python3.11/dist-packages (11.2.1)\n",
            "Requirement already satisfied: filelock in /usr/local/lib/python3.11/dist-packages (from torch) (3.18.0)\n",
            "Requirement already satisfied: typing-extensions>=4.10.0 in /usr/local/lib/python3.11/dist-packages (from torch) (4.13.2)\n",
            "Requirement already satisfied: networkx in /usr/local/lib/python3.11/dist-packages (from torch) (3.4.2)\n",
            "Requirement already satisfied: jinja2 in /usr/local/lib/python3.11/dist-packages (from torch) (3.1.6)\n",
            "Requirement already satisfied: fsspec in /usr/local/lib/python3.11/dist-packages (from torch) (2025.3.2)\n",
            "Collecting nvidia-cuda-nvrtc-cu12==12.4.127 (from torch)\n",
            "  Downloading nvidia_cuda_nvrtc_cu12-12.4.127-py3-none-manylinux2014_x86_64.whl.metadata (1.5 kB)\n",
            "Collecting nvidia-cuda-runtime-cu12==12.4.127 (from torch)\n",
            "  Downloading nvidia_cuda_runtime_cu12-12.4.127-py3-none-manylinux2014_x86_64.whl.metadata (1.5 kB)\n",
            "Collecting nvidia-cuda-cupti-cu12==12.4.127 (from torch)\n",
            "  Downloading nvidia_cuda_cupti_cu12-12.4.127-py3-none-manylinux2014_x86_64.whl.metadata (1.6 kB)\n",
            "Collecting nvidia-cudnn-cu12==9.1.0.70 (from torch)\n",
            "  Downloading nvidia_cudnn_cu12-9.1.0.70-py3-none-manylinux2014_x86_64.whl.metadata (1.6 kB)\n",
            "Collecting nvidia-cublas-cu12==12.4.5.8 (from torch)\n",
            "  Downloading nvidia_cublas_cu12-12.4.5.8-py3-none-manylinux2014_x86_64.whl.metadata (1.5 kB)\n",
            "Collecting nvidia-cufft-cu12==11.2.1.3 (from torch)\n",
            "  Downloading nvidia_cufft_cu12-11.2.1.3-py3-none-manylinux2014_x86_64.whl.metadata (1.5 kB)\n",
            "Collecting nvidia-curand-cu12==10.3.5.147 (from torch)\n",
            "  Downloading nvidia_curand_cu12-10.3.5.147-py3-none-manylinux2014_x86_64.whl.metadata (1.5 kB)\n",
            "Collecting nvidia-cusolver-cu12==11.6.1.9 (from torch)\n",
            "  Downloading nvidia_cusolver_cu12-11.6.1.9-py3-none-manylinux2014_x86_64.whl.metadata (1.6 kB)\n",
            "Collecting nvidia-cusparse-cu12==12.3.1.170 (from torch)\n",
            "  Downloading nvidia_cusparse_cu12-12.3.1.170-py3-none-manylinux2014_x86_64.whl.metadata (1.6 kB)\n",
            "Requirement already satisfied: nvidia-cusparselt-cu12==0.6.2 in /usr/local/lib/python3.11/dist-packages (from torch) (0.6.2)\n",
            "Requirement already satisfied: nvidia-nccl-cu12==2.21.5 in /usr/local/lib/python3.11/dist-packages (from torch) (2.21.5)\n",
            "Requirement already satisfied: nvidia-nvtx-cu12==12.4.127 in /usr/local/lib/python3.11/dist-packages (from torch) (12.4.127)\n",
            "Collecting nvidia-nvjitlink-cu12==12.4.127 (from torch)\n",
            "  Downloading nvidia_nvjitlink_cu12-12.4.127-py3-none-manylinux2014_x86_64.whl.metadata (1.5 kB)\n",
            "Requirement already satisfied: triton==3.2.0 in /usr/local/lib/python3.11/dist-packages (from torch) (3.2.0)\n",
            "Requirement already satisfied: sympy==1.13.1 in /usr/local/lib/python3.11/dist-packages (from torch) (1.13.1)\n",
            "Requirement already satisfied: mpmath<1.4,>=1.1.0 in /usr/local/lib/python3.11/dist-packages (from sympy==1.13.1->torch) (1.3.0)\n",
            "Requirement already satisfied: numpy in /usr/local/lib/python3.11/dist-packages (from torchvision) (2.0.2)\n",
            "Requirement already satisfied: MarkupSafe>=2.0 in /usr/local/lib/python3.11/dist-packages (from jinja2->torch) (3.0.2)\n",
            "Downloading rarfile-4.2-py3-none-any.whl (29 kB)\n",
            "Downloading nvidia_cublas_cu12-12.4.5.8-py3-none-manylinux2014_x86_64.whl (363.4 MB)\n",
            "\u001b[2K   \u001b[90m━━━━━━━━━━━━━━━━━━━━━━━━━━━━━━━━━━━━━━━━\u001b[0m \u001b[32m363.4/363.4 MB\u001b[0m \u001b[31m3.7 MB/s\u001b[0m eta \u001b[36m0:00:00\u001b[0m\n",
            "\u001b[?25hDownloading nvidia_cuda_cupti_cu12-12.4.127-py3-none-manylinux2014_x86_64.whl (13.8 MB)\n",
            "\u001b[2K   \u001b[90m━━━━━━━━━━━━━━━━━━━━━━━━━━━━━━━━━━━━━━━━\u001b[0m \u001b[32m13.8/13.8 MB\u001b[0m \u001b[31m105.3 MB/s\u001b[0m eta \u001b[36m0:00:00\u001b[0m\n",
            "\u001b[?25hDownloading nvidia_cuda_nvrtc_cu12-12.4.127-py3-none-manylinux2014_x86_64.whl (24.6 MB)\n",
            "\u001b[2K   \u001b[90m━━━━━━━━━━━━━━━━━━━━━━━━━━━━━━━━━━━━━━━━\u001b[0m \u001b[32m24.6/24.6 MB\u001b[0m \u001b[31m76.3 MB/s\u001b[0m eta \u001b[36m0:00:00\u001b[0m\n",
            "\u001b[?25hDownloading nvidia_cuda_runtime_cu12-12.4.127-py3-none-manylinux2014_x86_64.whl (883 kB)\n",
            "\u001b[2K   \u001b[90m━━━━━━━━━━━━━━━━━━━━━━━━━━━━━━━━━━━━━━━━\u001b[0m \u001b[32m883.7/883.7 kB\u001b[0m \u001b[31m62.7 MB/s\u001b[0m eta \u001b[36m0:00:00\u001b[0m\n",
            "\u001b[?25hDownloading nvidia_cudnn_cu12-9.1.0.70-py3-none-manylinux2014_x86_64.whl (664.8 MB)\n",
            "\u001b[2K   \u001b[90m━━━━━━━━━━━━━━━━━━━━━━━━━━━━━━━━━━━━━━━━\u001b[0m \u001b[32m664.8/664.8 MB\u001b[0m \u001b[31m1.3 MB/s\u001b[0m eta \u001b[36m0:00:00\u001b[0m\n",
            "\u001b[?25hDownloading nvidia_cufft_cu12-11.2.1.3-py3-none-manylinux2014_x86_64.whl (211.5 MB)\n",
            "\u001b[2K   \u001b[90m━━━━━━━━━━━━━━━━━━━━━━━━━━━━━━━━━━━━━━━━\u001b[0m \u001b[32m211.5/211.5 MB\u001b[0m \u001b[31m5.1 MB/s\u001b[0m eta \u001b[36m0:00:00\u001b[0m\n",
            "\u001b[?25hDownloading nvidia_curand_cu12-10.3.5.147-py3-none-manylinux2014_x86_64.whl (56.3 MB)\n",
            "\u001b[2K   \u001b[90m━━━━━━━━━━━━━━━━━━━━━━━━━━━━━━━━━━━━━━━━\u001b[0m \u001b[32m56.3/56.3 MB\u001b[0m \u001b[31m14.7 MB/s\u001b[0m eta \u001b[36m0:00:00\u001b[0m\n",
            "\u001b[?25hDownloading nvidia_cusolver_cu12-11.6.1.9-py3-none-manylinux2014_x86_64.whl (127.9 MB)\n",
            "\u001b[2K   \u001b[90m━━━━━━━━━━━━━━━━━━━━━━━━━━━━━━━━━━━━━━━━\u001b[0m \u001b[32m127.9/127.9 MB\u001b[0m \u001b[31m9.7 MB/s\u001b[0m eta \u001b[36m0:00:00\u001b[0m\n",
            "\u001b[?25hDownloading nvidia_cusparse_cu12-12.3.1.170-py3-none-manylinux2014_x86_64.whl (207.5 MB)\n",
            "\u001b[2K   \u001b[90m━━━━━━━━━━━━━━━━━━━━━━━━━━━━━━━━━━━━━━━━\u001b[0m \u001b[32m207.5/207.5 MB\u001b[0m \u001b[31m5.7 MB/s\u001b[0m eta \u001b[36m0:00:00\u001b[0m\n",
            "\u001b[?25hDownloading nvidia_nvjitlink_cu12-12.4.127-py3-none-manylinux2014_x86_64.whl (21.1 MB)\n",
            "\u001b[2K   \u001b[90m━━━━━━━━━━━━━━━━━━━━━━━━━━━━━━━━━━━━━━━━\u001b[0m \u001b[32m21.1/21.1 MB\u001b[0m \u001b[31m36.8 MB/s\u001b[0m eta \u001b[36m0:00:00\u001b[0m\n",
            "\u001b[?25hInstalling collected packages: rarfile, nvidia-nvjitlink-cu12, nvidia-curand-cu12, nvidia-cufft-cu12, nvidia-cuda-runtime-cu12, nvidia-cuda-nvrtc-cu12, nvidia-cuda-cupti-cu12, nvidia-cublas-cu12, nvidia-cusparse-cu12, nvidia-cudnn-cu12, nvidia-cusolver-cu12\n",
            "  Attempting uninstall: nvidia-nvjitlink-cu12\n",
            "    Found existing installation: nvidia-nvjitlink-cu12 12.5.82\n",
            "    Uninstalling nvidia-nvjitlink-cu12-12.5.82:\n",
            "      Successfully uninstalled nvidia-nvjitlink-cu12-12.5.82\n",
            "  Attempting uninstall: nvidia-curand-cu12\n",
            "    Found existing installation: nvidia-curand-cu12 10.3.6.82\n",
            "    Uninstalling nvidia-curand-cu12-10.3.6.82:\n",
            "      Successfully uninstalled nvidia-curand-cu12-10.3.6.82\n",
            "  Attempting uninstall: nvidia-cufft-cu12\n",
            "    Found existing installation: nvidia-cufft-cu12 11.2.3.61\n",
            "    Uninstalling nvidia-cufft-cu12-11.2.3.61:\n",
            "      Successfully uninstalled nvidia-cufft-cu12-11.2.3.61\n",
            "  Attempting uninstall: nvidia-cuda-runtime-cu12\n",
            "    Found existing installation: nvidia-cuda-runtime-cu12 12.5.82\n",
            "    Uninstalling nvidia-cuda-runtime-cu12-12.5.82:\n",
            "      Successfully uninstalled nvidia-cuda-runtime-cu12-12.5.82\n",
            "  Attempting uninstall: nvidia-cuda-nvrtc-cu12\n",
            "    Found existing installation: nvidia-cuda-nvrtc-cu12 12.5.82\n",
            "    Uninstalling nvidia-cuda-nvrtc-cu12-12.5.82:\n",
            "      Successfully uninstalled nvidia-cuda-nvrtc-cu12-12.5.82\n",
            "  Attempting uninstall: nvidia-cuda-cupti-cu12\n",
            "    Found existing installation: nvidia-cuda-cupti-cu12 12.5.82\n",
            "    Uninstalling nvidia-cuda-cupti-cu12-12.5.82:\n",
            "      Successfully uninstalled nvidia-cuda-cupti-cu12-12.5.82\n",
            "  Attempting uninstall: nvidia-cublas-cu12\n",
            "    Found existing installation: nvidia-cublas-cu12 12.5.3.2\n",
            "    Uninstalling nvidia-cublas-cu12-12.5.3.2:\n",
            "      Successfully uninstalled nvidia-cublas-cu12-12.5.3.2\n",
            "  Attempting uninstall: nvidia-cusparse-cu12\n",
            "    Found existing installation: nvidia-cusparse-cu12 12.5.1.3\n",
            "    Uninstalling nvidia-cusparse-cu12-12.5.1.3:\n",
            "      Successfully uninstalled nvidia-cusparse-cu12-12.5.1.3\n",
            "  Attempting uninstall: nvidia-cudnn-cu12\n",
            "    Found existing installation: nvidia-cudnn-cu12 9.3.0.75\n",
            "    Uninstalling nvidia-cudnn-cu12-9.3.0.75:\n",
            "      Successfully uninstalled nvidia-cudnn-cu12-9.3.0.75\n",
            "  Attempting uninstall: nvidia-cusolver-cu12\n",
            "    Found existing installation: nvidia-cusolver-cu12 11.6.3.83\n",
            "    Uninstalling nvidia-cusolver-cu12-11.6.3.83:\n",
            "      Successfully uninstalled nvidia-cusolver-cu12-11.6.3.83\n",
            "Successfully installed nvidia-cublas-cu12-12.4.5.8 nvidia-cuda-cupti-cu12-12.4.127 nvidia-cuda-nvrtc-cu12-12.4.127 nvidia-cuda-runtime-cu12-12.4.127 nvidia-cudnn-cu12-9.1.0.70 nvidia-cufft-cu12-11.2.1.3 nvidia-curand-cu12-10.3.5.147 nvidia-cusolver-cu12-11.6.1.9 nvidia-cusparse-cu12-12.3.1.170 nvidia-nvjitlink-cu12-12.4.127 rarfile-4.2\n"
          ]
        }
      ],
      "source": [
        "!pip install rarfile torch torchvision tqdm Pillow\n"
      ]
    },
    {
      "cell_type": "code",
      "execution_count": null,
      "metadata": {
        "colab": {
          "base_uri": "https://localhost:8080/",
          "height": 1000
        },
        "id": "NHEgFWCSRHDD",
        "outputId": "e963470b-00db-4121-9197-41edb56dc099"
      },
      "outputs": [
        {
          "name": "stdout",
          "output_type": "stream",
          "text": [
            "Requirement already satisfied: torch in /usr/local/lib/python3.11/dist-packages (2.6.0+cu124)\n",
            "Requirement already satisfied: torchvision in /usr/local/lib/python3.11/dist-packages (0.21.0+cu124)\n",
            "Requirement already satisfied: tqdm in /usr/local/lib/python3.11/dist-packages (4.67.1)\n",
            "Requirement already satisfied: filelock in /usr/local/lib/python3.11/dist-packages (from torch) (3.18.0)\n",
            "Requirement already satisfied: typing-extensions>=4.10.0 in /usr/local/lib/python3.11/dist-packages (from torch) (4.13.2)\n",
            "Requirement already satisfied: networkx in /usr/local/lib/python3.11/dist-packages (from torch) (3.4.2)\n",
            "Requirement already satisfied: jinja2 in /usr/local/lib/python3.11/dist-packages (from torch) (3.1.6)\n",
            "Requirement already satisfied: fsspec in /usr/local/lib/python3.11/dist-packages (from torch) (2025.3.2)\n",
            "Requirement already satisfied: nvidia-cuda-nvrtc-cu12==12.4.127 in /usr/local/lib/python3.11/dist-packages (from torch) (12.4.127)\n",
            "Requirement already satisfied: nvidia-cuda-runtime-cu12==12.4.127 in /usr/local/lib/python3.11/dist-packages (from torch) (12.4.127)\n",
            "Requirement already satisfied: nvidia-cuda-cupti-cu12==12.4.127 in /usr/local/lib/python3.11/dist-packages (from torch) (12.4.127)\n",
            "Requirement already satisfied: nvidia-cudnn-cu12==9.1.0.70 in /usr/local/lib/python3.11/dist-packages (from torch) (9.1.0.70)\n",
            "Requirement already satisfied: nvidia-cublas-cu12==12.4.5.8 in /usr/local/lib/python3.11/dist-packages (from torch) (12.4.5.8)\n",
            "Requirement already satisfied: nvidia-cufft-cu12==11.2.1.3 in /usr/local/lib/python3.11/dist-packages (from torch) (11.2.1.3)\n",
            "Requirement already satisfied: nvidia-curand-cu12==10.3.5.147 in /usr/local/lib/python3.11/dist-packages (from torch) (10.3.5.147)\n",
            "Requirement already satisfied: nvidia-cusolver-cu12==11.6.1.9 in /usr/local/lib/python3.11/dist-packages (from torch) (11.6.1.9)\n",
            "Requirement already satisfied: nvidia-cusparse-cu12==12.3.1.170 in /usr/local/lib/python3.11/dist-packages (from torch) (12.3.1.170)\n",
            "Requirement already satisfied: nvidia-cusparselt-cu12==0.6.2 in /usr/local/lib/python3.11/dist-packages (from torch) (0.6.2)\n",
            "Requirement already satisfied: nvidia-nccl-cu12==2.21.5 in /usr/local/lib/python3.11/dist-packages (from torch) (2.21.5)\n",
            "Requirement already satisfied: nvidia-nvtx-cu12==12.4.127 in /usr/local/lib/python3.11/dist-packages (from torch) (12.4.127)\n",
            "Requirement already satisfied: nvidia-nvjitlink-cu12==12.4.127 in /usr/local/lib/python3.11/dist-packages (from torch) (12.4.127)\n",
            "Requirement already satisfied: triton==3.2.0 in /usr/local/lib/python3.11/dist-packages (from torch) (3.2.0)\n",
            "Requirement already satisfied: sympy==1.13.1 in /usr/local/lib/python3.11/dist-packages (from torch) (1.13.1)\n",
            "Requirement already satisfied: mpmath<1.4,>=1.1.0 in /usr/local/lib/python3.11/dist-packages (from sympy==1.13.1->torch) (1.3.0)\n",
            "Requirement already satisfied: numpy in /usr/local/lib/python3.11/dist-packages (from torchvision) (2.0.2)\n",
            "Requirement already satisfied: pillow!=8.3.*,>=5.3.0 in /usr/local/lib/python3.11/dist-packages (from torchvision) (11.2.1)\n",
            "Requirement already satisfied: MarkupSafe>=2.0 in /usr/local/lib/python3.11/dist-packages (from jinja2->torch) (3.0.2)\n",
            "Using device: cuda\n",
            "Phân tích tập train:\n",
            "Số lớp: 24\n",
            "Số ảnh: 25299\n",
            "Phân bố lớp: [1100 1100 1099 1099 1100 1100 1100 1100 1100 1102 1099 1100 1100 1100\n",
            " 1100  825  277 1100 1099 1100 1100 1100 1099 1100]\n",
            "Kích thước ảnh: {(256, 256)}\n",
            "Tỷ lệ grayscale: 100.00%\n",
            "Giá trị pixel trung bình: 3.98, độ lệch chuẩn: 24.28\n",
            "Phân tích tập test:\n",
            "Số lớp: 24\n",
            "Số ảnh: 2801\n",
            "Phân bố lớp: [122 122 122 121 122 121 121 119 122 125 120 120 119 127 121  97  29 120\n",
            " 122 122 122 121 122 122]\n",
            "Kích thước ảnh: {(256, 256)}\n",
            "Tỷ lệ grayscale: 100.00%\n",
            "Giá trị pixel trung bình: 3.82, độ lệch chuẩn: 23.81\n"
          ]
        },
        {
          "name": "stderr",
          "output_type": "stream",
          "text": [
            "Epoch 1/30 [Train]: 100%|██████████| 317/317 [00:42<00:00,  7.54it/s]\n",
            "Epoch 1/30 [Val]: 100%|██████████| 80/80 [00:10<00:00,  7.83it/s]\n"
          ]
        },
        {
          "name": "stdout",
          "output_type": "stream",
          "text": [
            "Epoch 1: train_loss=1.5757, val_acc=20.97%\n"
          ]
        },
        {
          "name": "stderr",
          "output_type": "stream",
          "text": [
            "Epoch 2/30 [Train]: 100%|██████████| 317/317 [00:41<00:00,  7.72it/s]\n",
            "Epoch 2/30 [Val]: 100%|██████████| 80/80 [00:07<00:00, 11.15it/s]\n"
          ]
        },
        {
          "name": "stdout",
          "output_type": "stream",
          "text": [
            "Epoch 2: train_loss=0.6692, val_acc=53.65%\n"
          ]
        },
        {
          "name": "stderr",
          "output_type": "stream",
          "text": [
            "Epoch 3/30 [Train]: 100%|██████████| 317/317 [00:41<00:00,  7.64it/s]\n",
            "Epoch 3/30 [Val]: 100%|██████████| 80/80 [00:08<00:00,  9.18it/s]\n"
          ]
        },
        {
          "name": "stdout",
          "output_type": "stream",
          "text": [
            "Epoch 3: train_loss=0.4252, val_acc=77.58%\n"
          ]
        },
        {
          "name": "stderr",
          "output_type": "stream",
          "text": [
            "Epoch 4/30 [Train]: 100%|██████████| 317/317 [00:41<00:00,  7.61it/s]\n",
            "Epoch 4/30 [Val]: 100%|██████████| 80/80 [00:07<00:00, 10.97it/s]\n"
          ]
        },
        {
          "name": "stdout",
          "output_type": "stream",
          "text": [
            "Epoch 4: train_loss=0.3151, val_acc=81.32%\n"
          ]
        },
        {
          "name": "stderr",
          "output_type": "stream",
          "text": [
            "Epoch 5/30 [Train]: 100%|██████████| 317/317 [00:41<00:00,  7.59it/s]\n",
            "Epoch 5/30 [Val]: 100%|██████████| 80/80 [00:08<00:00,  9.04it/s]\n"
          ]
        },
        {
          "name": "stdout",
          "output_type": "stream",
          "text": [
            "Epoch 5: train_loss=0.2506, val_acc=74.46%\n"
          ]
        },
        {
          "name": "stderr",
          "output_type": "stream",
          "text": [
            "Epoch 6/30 [Train]: 100%|██████████| 317/317 [00:41<00:00,  7.58it/s]\n",
            "Epoch 6/30 [Val]: 100%|██████████| 80/80 [00:07<00:00, 10.96it/s]\n"
          ]
        },
        {
          "name": "stdout",
          "output_type": "stream",
          "text": [
            "Epoch 6: train_loss=0.1923, val_acc=83.53%\n"
          ]
        },
        {
          "name": "stderr",
          "output_type": "stream",
          "text": [
            "Epoch 7/30 [Train]: 100%|██████████| 317/317 [00:41<00:00,  7.63it/s]\n",
            "Epoch 7/30 [Val]: 100%|██████████| 80/80 [00:09<00:00,  8.82it/s]\n"
          ]
        },
        {
          "name": "stdout",
          "output_type": "stream",
          "text": [
            "Epoch 7: train_loss=0.1665, val_acc=80.98%\n"
          ]
        },
        {
          "name": "stderr",
          "output_type": "stream",
          "text": [
            "Epoch 8/30 [Train]: 100%|██████████| 317/317 [00:41<00:00,  7.62it/s]\n",
            "Epoch 8/30 [Val]: 100%|██████████| 80/80 [00:07<00:00, 10.00it/s]\n"
          ]
        },
        {
          "name": "stdout",
          "output_type": "stream",
          "text": [
            "Epoch 8: train_loss=0.1363, val_acc=84.05%\n"
          ]
        },
        {
          "name": "stderr",
          "output_type": "stream",
          "text": [
            "Epoch 9/30 [Train]: 100%|██████████| 317/317 [00:40<00:00,  7.73it/s]\n",
            "Epoch 9/30 [Val]: 100%|██████████| 80/80 [00:08<00:00,  9.77it/s]\n"
          ]
        },
        {
          "name": "stdout",
          "output_type": "stream",
          "text": [
            "Epoch 9: train_loss=0.1074, val_acc=85.53%\n"
          ]
        },
        {
          "name": "stderr",
          "output_type": "stream",
          "text": [
            "Epoch 10/30 [Train]: 100%|██████████| 317/317 [00:41<00:00,  7.57it/s]\n",
            "Epoch 10/30 [Val]: 100%|██████████| 80/80 [00:08<00:00,  9.88it/s]\n"
          ]
        },
        {
          "name": "stdout",
          "output_type": "stream",
          "text": [
            "Epoch 10: train_loss=0.0971, val_acc=89.25%\n"
          ]
        },
        {
          "name": "stderr",
          "output_type": "stream",
          "text": [
            "Epoch 11/30 [Train]: 100%|██████████| 317/317 [00:41<00:00,  7.69it/s]\n",
            "Epoch 11/30 [Val]: 100%|██████████| 80/80 [00:08<00:00,  9.84it/s]\n"
          ]
        },
        {
          "name": "stdout",
          "output_type": "stream",
          "text": [
            "Epoch 11: train_loss=0.0830, val_acc=85.25%\n"
          ]
        },
        {
          "name": "stderr",
          "output_type": "stream",
          "text": [
            "Epoch 12/30 [Train]: 100%|██████████| 317/317 [00:41<00:00,  7.62it/s]\n",
            "Epoch 12/30 [Val]: 100%|██████████| 80/80 [00:08<00:00,  9.30it/s]\n"
          ]
        },
        {
          "name": "stdout",
          "output_type": "stream",
          "text": [
            "Epoch 12: train_loss=0.0643, val_acc=89.41%\n"
          ]
        },
        {
          "name": "stderr",
          "output_type": "stream",
          "text": [
            "Epoch 13/30 [Train]: 100%|██████████| 317/317 [00:41<00:00,  7.66it/s]\n",
            "Epoch 13/30 [Val]: 100%|██████████| 80/80 [00:07<00:00, 10.85it/s]\n"
          ]
        },
        {
          "name": "stdout",
          "output_type": "stream",
          "text": [
            "Epoch 13: train_loss=0.0525, val_acc=90.33%\n"
          ]
        },
        {
          "name": "stderr",
          "output_type": "stream",
          "text": [
            "Epoch 14/30 [Train]: 100%|██████████| 317/317 [00:41<00:00,  7.61it/s]\n",
            "Epoch 14/30 [Val]: 100%|██████████| 80/80 [00:08<00:00,  9.19it/s]\n"
          ]
        },
        {
          "name": "stdout",
          "output_type": "stream",
          "text": [
            "Epoch 14: train_loss=0.0447, val_acc=91.24%\n"
          ]
        },
        {
          "name": "stderr",
          "output_type": "stream",
          "text": [
            "Epoch 15/30 [Train]: 100%|██████████| 317/317 [00:41<00:00,  7.69it/s]\n",
            "Epoch 15/30 [Val]: 100%|██████████| 80/80 [00:07<00:00, 11.18it/s]\n"
          ]
        },
        {
          "name": "stdout",
          "output_type": "stream",
          "text": [
            "Epoch 15: train_loss=0.0470, val_acc=89.66%\n"
          ]
        },
        {
          "name": "stderr",
          "output_type": "stream",
          "text": [
            "Epoch 16/30 [Train]: 100%|██████████| 317/317 [00:41<00:00,  7.66it/s]\n",
            "Epoch 16/30 [Val]: 100%|██████████| 80/80 [00:08<00:00,  9.22it/s]\n"
          ]
        },
        {
          "name": "stdout",
          "output_type": "stream",
          "text": [
            "Epoch 16: train_loss=0.0341, val_acc=90.59%\n"
          ]
        },
        {
          "name": "stderr",
          "output_type": "stream",
          "text": [
            "Epoch 17/30 [Train]: 100%|██████████| 317/317 [00:41<00:00,  7.67it/s]\n",
            "Epoch 17/30 [Val]: 100%|██████████| 80/80 [00:07<00:00, 11.07it/s]\n"
          ]
        },
        {
          "name": "stdout",
          "output_type": "stream",
          "text": [
            "Epoch 17: train_loss=0.0325, val_acc=91.07%\n"
          ]
        },
        {
          "name": "stderr",
          "output_type": "stream",
          "text": [
            "Epoch 18/30 [Train]: 100%|██████████| 317/317 [00:41<00:00,  7.57it/s]\n",
            "Epoch 18/30 [Val]: 100%|██████████| 80/80 [00:08<00:00,  9.16it/s]\n"
          ]
        },
        {
          "name": "stdout",
          "output_type": "stream",
          "text": [
            "Epoch 18: train_loss=0.0232, val_acc=89.66%\n"
          ]
        },
        {
          "name": "stderr",
          "output_type": "stream",
          "text": [
            "Epoch 19/30 [Train]: 100%|██████████| 317/317 [00:41<00:00,  7.69it/s]\n",
            "Epoch 19/30 [Val]: 100%|██████████| 80/80 [00:07<00:00, 10.87it/s]\n"
          ]
        },
        {
          "name": "stdout",
          "output_type": "stream",
          "text": [
            "Epoch 19: train_loss=0.0189, val_acc=90.91%\n",
            "Early stopping triggered.\n"
          ]
        },
        {
          "name": "stderr",
          "output_type": "stream",
          "text": [
            "Testing: 100%|██████████| 44/44 [00:05<00:00,  7.96it/s]\n"
          ]
        },
        {
          "name": "stdout",
          "output_type": "stream",
          "text": [
            "\n",
            "Test Accuracy: 89.11%\n",
            "\n",
            "Classification Report:\n",
            "              precision    recall  f1-score   support\n",
            "\n",
            "           1       0.96      0.96      0.96       122\n",
            "          10       0.88      0.82      0.85       122\n",
            "          11       0.81      0.98      0.88       122\n",
            "          12       0.91      0.95      0.93       121\n",
            "          13       0.91      0.92      0.91       122\n",
            "          14       0.95      0.85      0.90       121\n",
            "          15       0.94      0.90      0.92       121\n",
            "          16       0.81      0.95      0.87       119\n",
            "          17       0.85      0.93      0.89       122\n",
            "          18       0.93      0.91      0.92       125\n",
            "          19       0.90      0.97      0.94       120\n",
            "           2       0.96      0.84      0.90       120\n",
            "          20       0.98      0.87      0.92       119\n",
            "          21       0.94      0.94      0.94       127\n",
            "          22       0.90      0.87      0.88       121\n",
            "          23       0.80      0.90      0.84        97\n",
            "          24       0.83      0.86      0.85        29\n",
            "           3       0.85      0.88      0.86       120\n",
            "           4       0.89      0.83      0.86       122\n",
            "           5       0.84      0.88      0.86       122\n",
            "           6       0.86      0.89      0.87       122\n",
            "           7       0.93      0.90      0.92       121\n",
            "           8       0.91      0.72      0.80       122\n",
            "           9       0.85      0.86      0.86       122\n",
            "\n",
            "    accuracy                           0.89      2801\n",
            "   macro avg       0.89      0.89      0.89      2801\n",
            "weighted avg       0.89      0.89      0.89      2801\n",
            "\n"
          ]
        },
        {
          "data": {
            "image/png": "[encoded data removed]",
            "text/plain": [
              "<Figure size 1200x400 with 2 Axes>"
            ]
          },
          "metadata": {},
          "output_type": "display_data"
        }
      ],
      "source": [
        "import os\n",
        "import numpy as np\n",
        "import torch\n",
        "import torch.nn as nn\n",
        "from torch.utils.data import DataLoader, random_split, WeightedRandomSampler\n",
        "from torchvision import datasets, transforms, models\n",
        "from sklearn.metrics import accuracy_score, classification_report\n",
        "import matplotlib.pyplot as plt\n",
        "from tqdm import tqdm\n",
        "from PIL import Image\n",
        "\n",
        "# 1. Phân tích dữ liệu\n",
        "def analyze_data(data_dir):\n",
        "    dataset = datasets.ImageFolder(data_dir)\n",
        "    samples = dataset.samples\n",
        "    classes = dataset.classes\n",
        "    num_classes = len(classes)\n",
        "\n",
        "    print(f\"Số lớp: {num_classes}\")\n",
        "    print(f\"Số ảnh: {len(samples)}\")\n",
        "    print(f\"Phân bố lớp: {np.bincount([s[1] for s in samples])}\")\n",
        "\n",
        "    sizes = []\n",
        "    is_grayscale = []\n",
        "    pixel_means = []\n",
        "    pixel_stds = []\n",
        "\n",
        "    for img_path, _ in samples[:100]:\n",
        "        img = Image.open(img_path)\n",
        "        sizes.append(img.size)\n",
        "        is_grayscale.append(img.mode == 'L')\n",
        "        img_np = np.array(img)\n",
        "        pixel_means.append(img_np.mean())\n",
        "        pixel_stds.append(img_np.std())\n",
        "\n",
        "    print(f\"Kích thước ảnh: {set(sizes)}\")\n",
        "    print(f\"Tỷ lệ grayscale: {sum(is_grayscale)/len(is_grayscale)*100:.2f}%\")\n",
        "    print(f\"Giá trị pixel trung bình: {np.mean(pixel_means):.2f}, độ lệch chuẩn: {np.mean(pixel_stds):.2f}\")\n",
        "\n",
        "# 2. Tiền xử lý và DataLoader\n",
        "def get_data_loaders(data_dir, img_size, batch_size, num_workers):\n",
        "    train_transform = transforms.Compose([\n",
        "        transforms.Grayscale(),\n",
        "        transforms.Resize((img_size, img_size)),\n",
        "        transforms.RandomAffine(15, translate=(0.1, 0.1), scale=(0.9, 1.1)),\n",
        "        transforms.RandomHorizontalFlip(),\n",
        "        transforms.RandomVerticalFlip(),\n",
        "        transforms.ToTensor(),\n",
        "        transforms.Normalize((0.5,), (0.5,))\n",
        "    ])\n",
        "    val_test_transform = transforms.Compose([\n",
        "        transforms.Grayscale(),\n",
        "        transforms.Resize((img_size, img_size)),\n",
        "        transforms.ToTensor(),\n",
        "        transforms.Normalize((0.5,), (0.5,))\n",
        "    ])\n",
        "\n",
        "    full_train = datasets.ImageFolder(os.path.join(data_dir, \"train_data\"), transform=train_transform)\n",
        "    n_total = len(full_train)\n",
        "    n_val = int(0.2 * n_total)\n",
        "    n_train = n_total - n_val\n",
        "    train_ds, val_ds = random_split(full_train, [n_train, n_val], generator=torch.Generator().manual_seed(42))\n",
        "    val_ds.dataset.transform = val_test_transform\n",
        "\n",
        "    labels = [full_train.samples[i][1] for i in train_ds.indices]\n",
        "    class_counts = np.bincount(labels, minlength=len(full_train.classes))\n",
        "    class_weights = 1. / (class_counts + 1e-6)\n",
        "    sample_weights = [class_weights[l] for l in labels]\n",
        "    sampler = WeightedRandomSampler(sample_weights, num_samples=len(sample_weights), replacement=True)\n",
        "\n",
        "    train_loader = DataLoader(train_ds, batch_size=batch_size, sampler=sampler, num_workers=num_workers, pin_memory=True)\n",
        "    val_loader = DataLoader(val_ds, batch_size=batch_size, shuffle=False, num_workers=num_workers, pin_memory=True)\n",
        "    test_ds = datasets.ImageFolder(os.path.join(data_dir, \"test_data\"), transform=val_test_transform)\n",
        "    test_loader = DataLoader(test_ds, batch_size=batch_size, shuffle=False, num_workers=num_workers, pin_memory=True)\n",
        "\n",
        "    return train_loader, val_loader, test_loader, full_train.classes, len(full_train.classes)\n",
        "\n",
        "# 3. Xây dựng mô hình EfficientNet-B0\n",
        "def build_model(num_classes, device):\n",
        "    model = models.efficientnet_b0(weights='EfficientNet_B0_Weights.DEFAULT')\n",
        "    model.features[0][0] = nn.Conv2d(1, 32, kernel_size=3, stride=2, padding=1, bias=False)\n",
        "    model.classifier[1] = nn.Linear(model.classifier[1].in_features, num_classes)\n",
        "    return model.to(device)\n",
        "\n",
        "# 4. Huấn luyện và đánh giá\n",
        "def train_and_evaluate(train_loader, val_loader, test_loader, model, device, epochs, patience, lr, model_path):\n",
        "    criterion = nn.CrossEntropyLoss()\n",
        "    optimizer = torch.optim.AdamW(model.parameters(), lr=lr, weight_decay=1e-4)\n",
        "    scheduler = torch.optim.lr_scheduler.CosineAnnealingLR(optimizer, T_max=epochs)\n",
        "\n",
        "    best_acc = 0.0\n",
        "    epochs_no_improve = 0\n",
        "    train_losses, val_accuracies = [], []\n",
        "\n",
        "    for epoch in range(1, epochs + 1):\n",
        "        model.train()\n",
        "        running_loss = 0.0\n",
        "        for imgs, labels in tqdm(train_loader, desc=f\"Epoch {epoch}/{epochs} [Train]\"):\n",
        "            imgs, labels = imgs.to(device), labels.to(device)\n",
        "            optimizer.zero_grad()\n",
        "            outputs = model(imgs)\n",
        "            loss = criterion(outputs, labels)\n",
        "            loss.backward()\n",
        "            optimizer.step()\n",
        "            running_loss += loss.item()\n",
        "        avg_loss = running_loss / len(train_loader)\n",
        "        train_losses.append(avg_loss)\n",
        "\n",
        "        model.eval()\n",
        "        all_preds, all_labels = [], []\n",
        "        with torch.no_grad():\n",
        "            for imgs, labels in tqdm(val_loader, desc=f\"Epoch {epoch}/{epochs} [Val]\"):\n",
        "                imgs = imgs.to(device)\n",
        "                outputs = model(imgs)\n",
        "                preds = outputs.argmax(dim=1).cpu().tolist()\n",
        "                all_preds.extend(preds)\n",
        "                all_labels.extend(labels.tolist())\n",
        "        val_acc = accuracy_score(all_labels, all_preds)\n",
        "        val_accuracies.append(val_acc)\n",
        "\n",
        "        print(f\"Epoch {epoch}: train_loss={avg_loss:.4f}, val_acc={val_acc*100:.2f}%\")\n",
        "        scheduler.step()\n",
        "\n",
        "        if val_acc > best_acc:\n",
        "            best_acc = val_acc\n",
        "            torch.save(model.state_dict(), model_path)\n",
        "            epochs_no_improve = 0\n",
        "        else:\n",
        "            epochs_no_improve += 1\n",
        "            if epochs_no_improve >= patience:\n",
        "                print(\"Early stopping triggered.\")\n",
        "                break\n",
        "\n",
        "    # Đánh giá trên tập test\n",
        "    model.eval()\n",
        "    all_preds, all_labels = [], []\n",
        "    with torch.no_grad():\n",
        "        for imgs, labels in tqdm(test_loader, desc=\"Testing\"):\n",
        "            imgs = imgs.to(device)\n",
        "            outputs = model(imgs)\n",
        "            preds = outputs.argmax(dim=1).cpu().tolist()\n",
        "            all_preds.extend(preds)\n",
        "            all_labels.extend(labels.tolist())\n",
        "    test_acc = accuracy_score(all_labels, all_preds)\n",
        "    print(f\"\\nTest Accuracy: {test_acc*100:.2f}%\")\n",
        "    print(\"\\nClassification Report:\")\n",
        "    print(classification_report(all_labels, all_preds, target_names=classes, zero_division=0))\n",
        "\n",
        "    # Vẽ biểu đồ\n",
        "    plt.figure(figsize=(12, 4))\n",
        "    plt.subplot(1, 2, 1)\n",
        "    plt.plot(train_losses, marker='o')\n",
        "    plt.title(\"Train Loss\")\n",
        "    plt.xlabel(\"Epoch\")\n",
        "    plt.ylabel(\"Loss\")\n",
        "    plt.subplot(1, 2, 2)\n",
        "    plt.plot(val_accuracies, marker='o')\n",
        "    plt.title(\"Validation Accuracy\")\n",
        "    plt.xlabel(\"Epoch\")\n",
        "    plt.ylabel(\"Accuracy\")\n",
        "    plt.tight_layout()\n",
        "    plt.savefig(os.path.join(DATA_DIR, \"training_plots.png\"))\n",
        "    plt.show()\n",
        "\n",
        "# 5. Main\n",
        "if __name__ == '__main__':\n",
        "\n",
        "    # Tham số\n",
        "    DATA_DIR = \"/content/data/data\"\n",
        "    MODEL_PATH = os.path.join(DATA_DIR, \"best_model.pt\")\n",
        "    IMG_SIZE = 128\n",
        "    BATCH_SIZE = 64\n",
        "    EPOCHS = 30\n",
        "    PATIENCE = 5\n",
        "    LR = 3e-4\n",
        "    NUM_WORKERS = 2\n",
        "\n",
        "    # Kiểm tra GPU\n",
        "    device = torch.device(\"cuda\" if torch.cuda.is_available() else \"cpu\")\n",
        "    print(f\"Using device: {device}\")\n",
        "\n",
        "    # Phân tích dữ liệu\n",
        "    print(\"Phân tích tập train:\")\n",
        "    analyze_data(os.path.join(DATA_DIR, \"train_data\"))\n",
        "    print(\"Phân tích tập test:\")\n",
        "    analyze_data(os.path.join(DATA_DIR, \"test_data\"))\n",
        "\n",
        "    # Load dữ liệu\n",
        "    train_loader, val_loader, test_loader, classes, num_classes = get_data_loaders(\n",
        "        DATA_DIR, IMG_SIZE, BATCH_SIZE, NUM_WORKERS\n",
        "    )\n",
        "\n",
        "    # Xây dựng và huấn luyện mô hình\n",
        "    model = build_model(num_classes, device)\n",
        "    train_and_evaluate(train_loader, val_loader, test_loader, model, device, EPOCHS, PATIENCE, LR, MODEL_PATH)"
      ]
    }
  ],
  "metadata": {
    "accelerator": "GPU",
    "colab": {
      "gpuType": "T4",
      "provenance": []
    },
    "kernelspec": {
      "display_name": "Python 3",
      "name": "python3"
    },
    "language_info": {
      "name": "python"
    }
  },
  "nbformat": 4,
  "nbformat_minor": 0
}
